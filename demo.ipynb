{
 "cells": [
  {
   "cell_type": "code",
   "execution_count": 32,
   "metadata": {},
   "outputs": [
    {
     "name": "stdout",
     "output_type": "stream",
     "text": [
      "The autoreload extension is already loaded. To reload it, use:\n",
      "  %reload_ext autoreload\n"
     ]
    }
   ],
   "source": [
    "%load_ext autoreload\n",
    "%autoreload 2\n",
    "import krakenex\n",
    "import pandas as pd\n",
    "import pickle\n",
    "import numpy as np\n",
    "from matplotlib.finance import candlestick2_ochl\n",
    "import matplotlib.pyplot as plt\n",
    "\n",
    "import time\n",
    "import datetime\n",
    "\n",
    "import urllib\n",
    "import json\n",
    "\n",
    "from mpl_toolkits.mplot3d import Axes3D\n",
    "import matplotlib.pyplot as plt\n",
    "import random\n",
    "from matplotlib import cm\n",
    "\n",
    "from autotrader import *\n",
    "\n",
    "import warnings\n",
    "warnings.filterwarnings('ignore')"
   ]
  },
  {
   "cell_type": "code",
   "execution_count": 33,
   "metadata": {
    "collapsed": true
   },
   "outputs": [],
   "source": [
    "k = krakenex.API()\n",
    "k.load_key('kraken.key')"
   ]
  },
  {
   "cell_type": "code",
   "execution_count": 34,
   "metadata": {
    "collapsed": true
   },
   "outputs": [],
   "source": [
    "pair = 'XXBTZEUR'"
   ]
  },
  {
   "cell_type": "code",
   "execution_count": 85,
   "metadata": {},
   "outputs": [],
   "source": [
    "interval = 30\n",
    "d = fetchKrakenOhlc(krakenApi=k, pair=pair, interval=interval, since=0)\n",
    "duration_5 = (d.time.iloc[-1]-d.time.iloc[0])/3600\n",
    "result = brutforceEma(d)\n",
    "result['pair'] = pair\n",
    "result['interval'] = interval"
   ]
  },
  {
   "cell_type": "code",
   "execution_count": 86,
   "metadata": {},
   "outputs": [],
   "source": [
    "interval = 15\n",
    "d = fetchKrakenOhlc(krakenApi=k, pair=pair, interval=interval, since=0)\n",
    "duration_15 = (d.time.iloc[-1]-d.time.iloc[0])/3600\n",
    "tmpResult = brutforceEma(d)\n",
    "tmpResult['pair'] = pair\n",
    "tmpResult['interval'] = interval\n",
    "result = result.append(tmpResult)"
   ]
  },
  {
   "cell_type": "code",
   "execution_count": 88,
   "metadata": {},
   "outputs": [],
   "source": [
    "interval = 30\n",
    "d = fetchKrakenOhlc(krakenApi=k, pair=pair, interval=interval, since=0)\n",
    "duration_30 = (d.time.iloc[-1]-d.time.iloc[0])/3600\n",
    "tmpResult = brutforceEma(d)\n",
    "tmpResult['pair'] = pair\n",
    "tmpResult['interval'] = interval\n",
    "result = result.append(tmpResult)"
   ]
  },
  {
   "cell_type": "code",
   "execution_count": 89,
   "metadata": {},
   "outputs": [],
   "source": [
    "interval = 60\n",
    "d = fetchKrakenOhlc(krakenApi=k, pair=pair, interval=interval, since=0)\n",
    "duration_60 = (d.time.iloc[-1]-d.time.iloc[0])/3600\n",
    "tmpResult = brutforceEma(d)\n",
    "tmpResult['pair'] = pair\n",
    "tmpResult['interval'] = interval\n",
    "result = result.append(tmpResult)"
   ]
  },
  {
   "cell_type": "code",
   "execution_count": 93,
   "metadata": {
    "collapsed": true
   },
   "outputs": [],
   "source": [
    "# Compute per hour profit\n",
    "r = result.copy()\n",
    "r['profit_per_hour'] = r.apply(lambda x: x.profit/duration_60 if x.interval == 60 else x.profit, axis=1)\n",
    "r['profit_per_hour'] = r.apply(lambda x: x.profit/duration_15 if x.interval == 15 else x.profit, axis=1)\n",
    "r['profit_per_hour'] = r.apply(lambda x: x.profit/duration_30 if x.interval == 30 else x.profit, axis=1)\n",
    "r['profit_per_hour'] = r.apply(lambda x: x.profit/duration_5 if x.interval == 5 else x.profit, axis=1)"
   ]
  },
  {
   "cell_type": "code",
   "execution_count": null,
   "metadata": {
    "collapsed": true
   },
   "outputs": [],
   "source": [
    "r.sort_values(by=['profit'], ascending=False)"
   ]
  }
 ],
 "metadata": {
  "kernelspec": {
   "display_name": "Python 3",
   "language": "python",
   "name": "python3"
  },
  "language_info": {
   "codemirror_mode": {
    "name": "ipython",
    "version": 3
   },
   "file_extension": ".py",
   "mimetype": "text/x-python",
   "name": "python",
   "nbconvert_exporter": "python",
   "pygments_lexer": "ipython3",
   "version": "3.6.4"
  }
 },
 "nbformat": 4,
 "nbformat_minor": 2
}
